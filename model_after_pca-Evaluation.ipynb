{
 "cells": [
  {
   "cell_type": "code",
   "execution_count": 1,
   "metadata": {
    "collapsed": false
   },
   "outputs": [
    {
     "name": "stdout",
     "output_type": "stream",
     "text": [
      "Populating the interactive namespace from numpy and matplotlib\n"
     ]
    }
   ],
   "source": [
    "%pylab inline\n",
    "import pandas as pd\n",
    "import matplotlib.pyplot as plt\n",
    "fileURL = './breastcancer.csv'\n",
    "breast_cancer_db = pd.read_csv(fileURL)\n",
    "breast_cancer_db = breast_cancer_db.ix[:,1:32]"
   ]
  },
  {
   "cell_type": "code",
   "execution_count": 2,
   "metadata": {
    "collapsed": true
   },
   "outputs": [],
   "source": [
    "breast_cancer_db.loc[(breast_cancer_db['diagnosis'] == 'B'),'diagnosis'] = 0\n",
    "breast_cancer_db.loc[(breast_cancer_db['diagnosis'] == 'M'),'diagnosis'] = 1\n",
    "breast_cancer_db['diagnosis'] = pd.to_numeric(breast_cancer_db['diagnosis'])"
   ]
  },
  {
   "cell_type": "code",
   "execution_count": 3,
   "metadata": {
    "collapsed": true
   },
   "outputs": [],
   "source": [
    "def get_X_y(feature_cols, target):\n",
    "    X = breast_cancer_db[feature_cols]\n",
    "    y = breast_cancer_db[target]\n",
    "    return X, y"
   ]
  },
  {
   "cell_type": "code",
   "execution_count": 4,
   "metadata": {
    "collapsed": true
   },
   "outputs": [],
   "source": [
    "feature_cols = ['radius_mean', 'texture_mean', 'perimeter_mean', 'area_mean', 'smoothness_mean',\n",
    "               'compactness_mean', 'concavity_mean', 'concave points_mean', 'symmetry_mean',\n",
    "               'fractal_dimension_mean', 'radius_se', 'texture_se', 'perimeter_se', 'area_se',\n",
    "               'smoothness_se', 'compactness_se', 'concavity_se', 'concave points_se', 'symmetry_se',\n",
    "               'fractal_dimension_se', 'radius_worst', 'texture_worst', 'perimeter_worst', 'area_worst',\n",
    "               'smoothness_worst', 'smoothness_worst', 'concavity_worst', 'concave points_worst', 'symmetry_worst',\n",
    "               'fractal_dimension_worst']\n",
    "\n",
    "target = 'diagnosis'\n",
    "X, y = get_X_y(feature_cols, target)"
   ]
  },
  {
   "cell_type": "code",
   "execution_count": 5,
   "metadata": {
    "collapsed": true
   },
   "outputs": [],
   "source": [
    "from sklearn.naive_bayes import GaussianNB\n",
    "gnb_clf = GaussianNB()"
   ]
  },
  {
   "cell_type": "code",
   "execution_count": 6,
   "metadata": {
    "collapsed": false
   },
   "outputs": [],
   "source": [
    "from sklearn.linear_model import LogisticRegression\n",
    "lrg_clf = LogisticRegression(C=10, fit_intercept=False, tol=0.0001, class_weight='balanced')"
   ]
  },
  {
   "cell_type": "code",
   "execution_count": 7,
   "metadata": {
    "collapsed": true
   },
   "outputs": [],
   "source": [
    "from sklearn.neighbors import KNeighborsClassifier\n",
    "knn_clf = KNeighborsClassifier(n_neighbors=10, weights='distance')"
   ]
  },
  {
   "cell_type": "code",
   "execution_count": 8,
   "metadata": {
    "collapsed": true
   },
   "outputs": [],
   "source": [
    "from sklearn import tree\n",
    "dt_clf = tree.DecisionTreeClassifier(criterion = \"entropy\", min_samples_split=3, \n",
    "                                     min_samples_leaf=3)"
   ]
  },
  {
   "cell_type": "code",
   "execution_count": 9,
   "metadata": {
    "collapsed": true
   },
   "outputs": [],
   "source": [
    "from sklearn.ensemble import RandomForestClassifier\n",
    "rf_clf = RandomForestClassifier(criterion = \"gini\", n_estimators=15)"
   ]
  },
  {
   "cell_type": "code",
   "execution_count": 10,
   "metadata": {
    "collapsed": true
   },
   "outputs": [],
   "source": [
    "from sklearn.pipeline import Pipeline\n",
    "from sklearn.decomposition import PCA \n",
    "\n",
    "pca = PCA(n_components=10)\n",
    "\n",
    "def build_pipeline(clf):\n",
    "    pipe = Pipeline(steps=[('pca', pca), ('clf', clf)])\n",
    "    return pipe"
   ]
  },
  {
   "cell_type": "code",
   "execution_count": 11,
   "metadata": {
    "collapsed": false
   },
   "outputs": [
    {
     "name": "stderr",
     "output_type": "stream",
     "text": [
      "//anaconda/lib/python3.5/site-packages/sklearn/cross_validation.py:44: DeprecationWarning: This module was deprecated in version 0.18 in favor of the model_selection module into which all the refactored classes and functions are moved. Also note that the interface of the new CV iterators are different from that of this module. This module will be removed in 0.20.\n",
      "  \"This module will be removed in 0.20.\", DeprecationWarning)\n"
     ]
    }
   ],
   "source": [
    "from sklearn.cross_validation import cross_val_score\n",
    "\n",
    "def model_and_validate(clf):\n",
    "    pipe = build_pipeline(clf)\n",
    "    scores = cross_val_score(pipe, X, y, cv=10, scoring='accuracy') \n",
    "    return scores.mean()"
   ]
  },
  {
   "cell_type": "code",
   "execution_count": 12,
   "metadata": {
    "collapsed": false,
    "scrolled": true
   },
   "outputs": [
    {
     "name": "stdout",
     "output_type": "stream",
     "text": [
      "0.906972171809\n"
     ]
    }
   ],
   "source": [
    "print (model_and_validate(gnb_clf))"
   ]
  },
  {
   "cell_type": "code",
   "execution_count": 13,
   "metadata": {
    "collapsed": false
   },
   "outputs": [
    {
     "name": "stdout",
     "output_type": "stream",
     "text": [
      "0.949083916688\n"
     ]
    }
   ],
   "source": [
    "print (model_and_validate(lrg_clf))"
   ]
  },
  {
   "cell_type": "code",
   "execution_count": 14,
   "metadata": {
    "collapsed": false
   },
   "outputs": [
    {
     "name": "stdout",
     "output_type": "stream",
     "text": [
      "0.913956226774\n"
     ]
    }
   ],
   "source": [
    "print (model_and_validate(dt_clf))"
   ]
  },
  {
   "cell_type": "code",
   "execution_count": 15,
   "metadata": {
    "collapsed": false
   },
   "outputs": [
    {
     "name": "stdout",
     "output_type": "stream",
     "text": [
      "0.931689136635\n"
     ]
    }
   ],
   "source": [
    "print (model_and_validate(knn_clf))"
   ]
  },
  {
   "cell_type": "code",
   "execution_count": 16,
   "metadata": {
    "collapsed": false
   },
   "outputs": [
    {
     "name": "stdout",
     "output_type": "stream",
     "text": [
      "0.938586768646\n"
     ]
    }
   ],
   "source": [
    "print (model_and_validate(rf_clf))"
   ]
  },
  {
   "cell_type": "code",
   "execution_count": 17,
   "metadata": {
    "collapsed": false
   },
   "outputs": [],
   "source": [
    "from sklearn.cluster import KMeans\n",
    "km_cls = KMeans(n_clusters=1)"
   ]
  },
  {
   "cell_type": "code",
   "execution_count": 18,
   "metadata": {
    "collapsed": false
   },
   "outputs": [
    {
     "name": "stdout",
     "output_type": "stream",
     "text": [
      "0.627662907268\n"
     ]
    }
   ],
   "source": [
    "print (model_and_validate(km_cls))"
   ]
  },
  {
   "cell_type": "code",
   "execution_count": 19,
   "metadata": {
    "collapsed": false
   },
   "outputs": [],
   "source": [
    "from mlxtend.classifier import StackingClassifier\n",
    "\n",
    "stk_clf = StackingClassifier(classifiers=[rf_clf, lrg_clf], meta_classifier=lrg_clf)"
   ]
  },
  {
   "cell_type": "code",
   "execution_count": 20,
   "metadata": {
    "collapsed": false
   },
   "outputs": [
    {
     "name": "stdout",
     "output_type": "stream",
     "text": [
      "0.940372482931\n"
     ]
    }
   ],
   "source": [
    "print (model_and_validate(stk_clf))"
   ]
  },
  {
   "cell_type": "code",
   "execution_count": 33,
   "metadata": {
    "collapsed": false
   },
   "outputs": [],
   "source": [
    "from sklearn.model_selection import train_test_split\n",
    "import queue\n",
    "from matplotlib.pyplot import hist\n",
    "import collections\n",
    "\n",
    "def model_and_Evaluation(clf,target_class):\n",
    "    pipe = build_pipeline(clf)\n",
    "    X_train, X_test, y_train, y_test = train_test_split(X, y, test_size=0.1,stratify=y)\n",
    "    pipe.fit(X_train,y_train)\n",
    "    predict_proba = pipe.predict_proba(X_test)\n",
    "    d = {\"prob\":predict_proba[:,1], \"result\":y_test}\n",
    "    df = pd.DataFrame(data=d)\n",
    "    \n",
    "    q = queue.PriorityQueue()\n",
    "    for i in range(len(y_test)):\n",
    "        prob = predict_proba[:,target_class][i]\n",
    "        q.put((-prob,y_test.tolist()[i]))\n",
    "        \n",
    "    for i in range(53):\n",
    "        tuple = q.get()\n",
    "        print(-tuple[0],\":\", tuple[1])\n",
    "        \n",
    "    dic = {}\n",
    "    for j in range(len(y_test)):\n",
    "        prob = predict_proba[:,1][j]\n",
    "        y_true = y_test.tolist()[j]\n",
    "        if (prob,y_true) in dic:\n",
    "            dic[(prob,y_true)] = dic.get((prob,y_true))+1\n",
    "        else:\n",
    "            dic[(prob,y_true)] = 1\n",
    "    od = collections.OrderedDict(sorted(dic.items()))\n",
    "    print (od)"
   ]
  },
  {
   "cell_type": "code",
   "execution_count": 35,
   "metadata": {
    "collapsed": false
   },
   "outputs": [
    {
     "name": "stdout",
     "output_type": "stream",
     "text": [
      "0.997205083938 : 0\n",
      "0.997205083938 : 1\n",
      "0.997205083938 : 1\n",
      "0.997205083938 : 1\n",
      "0.997205083938 : 1\n",
      "0.997205083938 : 1\n",
      "0.997205083938 : 1\n",
      "0.997205083938 : 1\n",
      "0.997205083938 : 1\n",
      "0.997205083938 : 1\n",
      "0.997205083938 : 1\n",
      "0.997205083938 : 1\n",
      "0.997205083938 : 1\n",
      "0.997205083938 : 1\n",
      "0.997205083938 : 1\n",
      "0.997205083938 : 1\n",
      "0.997205083938 : 1\n",
      "0.997205083938 : 1\n",
      "0.997205083938 : 1\n",
      "0.997205083938 : 1\n",
      "0.5 : 0\n",
      "0.5 : 0\n",
      "0.5 : 0\n",
      "0.5 : 0\n",
      "0.5 : 0\n",
      "0.5 : 0\n",
      "0.5 : 0\n",
      "0.5 : 0\n",
      "0.5 : 0\n",
      "0.5 : 0\n",
      "0.5 : 0\n",
      "0.5 : 0\n",
      "0.5 : 0\n",
      "0.5 : 0\n",
      "0.5 : 0\n",
      "0.5 : 0\n",
      "0.5 : 0\n",
      "0.5 : 0\n",
      "0.5 : 0\n",
      "0.5 : 0\n",
      "0.5 : 0\n",
      "0.5 : 0\n",
      "0.5 : 0\n",
      "0.5 : 0\n",
      "0.5 : 0\n",
      "0.5 : 0\n",
      "0.5 : 0\n",
      "0.5 : 0\n",
      "0.5 : 0\n",
      "0.5 : 0\n",
      "0.5 : 0\n",
      "0.5 : 0\n",
      "0.5 : 0\n",
      "OrderedDict([((0.28082646479949591, 1), 2), ((0.5, 0), 35), ((0.99720508393767737, 0), 1), ((0.99720508393767737, 1), 19)])\n"
     ]
    }
   ],
   "source": [
    "model_and_Evaluation(stk_clf,1)"
   ]
  },
  {
   "cell_type": "code",
   "execution_count": 36,
   "metadata": {
    "collapsed": false
   },
   "outputs": [
    {
     "name": "stdout",
     "output_type": "stream",
     "text": [
      "1.0 : 1\n",
      "1.0 : 1\n",
      "1.0 : 1\n",
      "0.999999999821 : 1\n",
      "0.999999999566 : 1\n",
      "0.999999999262 : 1\n",
      "0.999999907231 : 1\n",
      "0.999999713454 : 1\n",
      "0.999997441076 : 1\n",
      "0.999984421404 : 1\n",
      "0.999983025842 : 1\n",
      "0.999974369419 : 1\n",
      "0.999887332121 : 1\n",
      "0.999768837157 : 1\n",
      "0.999259973775 : 1\n",
      "0.999010947439 : 1\n",
      "0.994703566372 : 1\n",
      "0.982954168862 : 1\n",
      "0.862184850592 : 0\n",
      "0.65480711218 : 1\n",
      "0.489478590283 : 1\n",
      "0.445404323528 : 0\n",
      "0.232458639748 : 0\n",
      "0.177365838289 : 1\n",
      "0.124392080678 : 0\n",
      "0.0283957836058 : 0\n",
      "0.0219738957676 : 0\n",
      "0.0212330644841 : 0\n",
      "0.020586228169 : 0\n",
      "0.0195253848595 : 0\n",
      "0.0177533286816 : 0\n",
      "0.0175437730777 : 0\n",
      "0.0115329413593 : 0\n",
      "0.00835890445609 : 0\n",
      "0.00426371809633 : 0\n",
      "0.00387167585472 : 0\n",
      "0.00319913293522 : 0\n",
      "0.00318366225567 : 0\n",
      "0.00288218895272 : 0\n",
      "0.00190119421099 : 0\n",
      "0.00173703891666 : 0\n",
      "0.00153424550474 : 0\n",
      "0.00146265927832 : 0\n",
      "0.0011317627118 : 0\n",
      "0.000823179710492 : 0\n",
      "0.000692260642851 : 0\n",
      "0.000581712266003 : 0\n",
      "0.000270395067192 : 0\n",
      "0.000210229255237 : 0\n",
      "0.000150076294675 : 0\n",
      "7.16141538047e-05 : 0\n",
      "6.68278436493e-05 : 0\n",
      "5.06862874398e-05 : 0\n",
      "OrderedDict([((2.4435027639019685e-06, 0), 1), ((3.8043580264264709e-06, 0), 1), ((1.9851111295770262e-05, 0), 1), ((3.0744571299808793e-05, 0), 1), ((5.0686287439822516e-05, 0), 1), ((6.6827843649299077e-05, 0), 1), ((7.1614153804725923e-05, 0), 1), ((0.00015007629467521754, 0), 1), ((0.00021022925523676741, 0), 1), ((0.00027039506719166178, 0), 1), ((0.00058171226600325216, 0), 1), ((0.00069226064285077195, 0), 1), ((0.00082317971049154781, 0), 1), ((0.0011317627117982498, 0), 1), ((0.0014626592783215902, 0), 1), ((0.0015342455047366223, 0), 1), ((0.0017370389166617092, 0), 1), ((0.0019011942109850057, 0), 1), ((0.002882188952723607, 0), 1), ((0.003183662255671607, 0), 1), ((0.0031991329352174997, 0), 1), ((0.0038716758547199031, 0), 1), ((0.0042637180963267917, 0), 1), ((0.0083589044560852845, 0), 1), ((0.011532941359349022, 0), 1), ((0.017543773077658191, 0), 1), ((0.017753328681592309, 0), 1), ((0.019525384859500283, 0), 1), ((0.020586228168999226, 0), 1), ((0.02123306448413665, 0), 1), ((0.021973895767649639, 0), 1), ((0.028395783605806486, 0), 1), ((0.12439208067839443, 0), 1), ((0.17736583828928151, 1), 1), ((0.23245863974751929, 0), 1), ((0.44540432352782333, 0), 1), ((0.4894785902828403, 1), 1), ((0.65480711217973475, 1), 1), ((0.86218485059218042, 0), 1), ((0.98295416886215203, 1), 1), ((0.99470356637230628, 1), 1), ((0.9990109474388692, 1), 1), ((0.99925997377541886, 1), 1), ((0.9997688371565927, 1), 1), ((0.99988733212094272, 1), 1), ((0.99997436941933759, 1), 1), ((0.99998302584241794, 1), 1), ((0.99998442140350663, 1), 1), ((0.99999744107631217, 1), 1), ((0.99999971345396266, 1), 1), ((0.9999999072306045, 1), 1), ((0.99999999926159178, 1), 1), ((0.99999999956557839, 1), 1), ((0.99999999982087595, 1), 1), ((0.99999999999997113, 1), 1), ((0.99999999999999578, 1), 1), ((1.0, 1), 1)])\n"
     ]
    }
   ],
   "source": [
    "model_and_Evaluation(lrg_clf,1)"
   ]
  },
  {
   "cell_type": "code",
   "execution_count": 39,
   "metadata": {
    "collapsed": false
   },
   "outputs": [
    {
     "name": "stdout",
     "output_type": "stream",
     "text": [
      "0.887792449759 : 0\n",
      "0.887792449759 : 0\n",
      "0.5 : 0\n",
      "0.5 : 0\n",
      "0.5 : 0\n",
      "0.5 : 0\n",
      "0.5 : 0\n",
      "0.5 : 0\n",
      "0.5 : 0\n",
      "0.5 : 0\n",
      "0.5 : 0\n",
      "0.5 : 0\n",
      "0.5 : 0\n",
      "0.5 : 0\n",
      "0.5 : 0\n",
      "0.5 : 0\n",
      "0.5 : 0\n",
      "0.5 : 0\n",
      "0.5 : 0\n",
      "0.5 : 0\n",
      "0.5 : 0\n",
      "0.5 : 0\n",
      "0.5 : 0\n",
      "0.5 : 0\n",
      "0.5 : 0\n",
      "0.5 : 0\n",
      "0.5 : 0\n",
      "0.5 : 0\n",
      "0.5 : 0\n",
      "0.5 : 0\n",
      "0.5 : 0\n",
      "0.5 : 0\n",
      "0.5 : 0\n",
      "0.5 : 0\n",
      "0.00317346057267 : 0\n",
      "0.00317346057267 : 0\n",
      "0.00317346057267 : 1\n",
      "0.00317346057267 : 1\n",
      "0.00317346057267 : 1\n",
      "0.00317346057267 : 1\n",
      "0.00317346057267 : 1\n",
      "0.00317346057267 : 1\n",
      "0.00317346057267 : 1\n",
      "0.00317346057267 : 1\n",
      "0.00317346057267 : 1\n",
      "0.00317346057267 : 1\n",
      "0.00317346057267 : 1\n",
      "0.00317346057267 : 1\n",
      "0.00317346057267 : 1\n",
      "0.00317346057267 : 1\n",
      "0.00317346057267 : 1\n",
      "0.00317346057267 : 1\n",
      "0.00317346057267 : 1\n",
      "OrderedDict([((0.11220755024072962, 0), 2), ((0.5, 0), 32), ((0.99682653942732735, 0), 2), ((0.99682653942732735, 1), 21)])\n"
     ]
    }
   ],
   "source": [
    "model_and_Evaluation(stk_clf,0)"
   ]
  },
  {
   "cell_type": "code",
   "execution_count": 40,
   "metadata": {
    "collapsed": false
   },
   "outputs": [
    {
     "name": "stdout",
     "output_type": "stream",
     "text": [
      "0.999999970362 : 0\n",
      "0.999999970151 : 0\n",
      "0.999999042255 : 0\n",
      "0.99999862174 : 0\n",
      "0.999998453622 : 0\n",
      "0.999996295633 : 0\n",
      "0.99999491957 : 0\n",
      "0.999992893035 : 0\n",
      "0.999992484946 : 0\n",
      "0.999979718113 : 0\n",
      "0.999971540347 : 0\n",
      "0.999969607179 : 0\n",
      "0.999958348118 : 0\n",
      "0.99994791176 : 0\n",
      "0.999925411346 : 0\n",
      "0.999897756564 : 0\n",
      "0.999731839796 : 0\n",
      "0.999568433655 : 0\n",
      "0.999304182964 : 0\n",
      "0.998990605705 : 0\n",
      "0.998855227176 : 0\n",
      "0.998243201945 : 0\n",
      "0.997547759383 : 0\n",
      "0.996656862449 : 0\n",
      "0.985233981927 : 0\n",
      "0.978541870647 : 0\n",
      "0.97726475415 : 0\n",
      "0.976503427886 : 0\n",
      "0.9551238577 : 0\n",
      "0.954367362282 : 0\n",
      "0.949659460557 : 0\n",
      "0.946507924661 : 0\n",
      "0.942053138012 : 0\n",
      "0.891633364427 : 0\n",
      "0.874410839325 : 0\n",
      "0.826965200621 : 1\n",
      "0.580737792739 : 0\n",
      "0.374155094608 : 1\n",
      "0.25964287931 : 1\n",
      "0.159271925924 : 1\n",
      "0.0198352904451 : 1\n",
      "0.0195236032904 : 1\n",
      "0.00104540614441 : 1\n",
      "0.00072245641937 : 1\n",
      "0.000248092924553 : 1\n",
      "0.000101458562198 : 1\n",
      "4.79967250245e-05 : 1\n",
      "2.49550867178e-05 : 1\n",
      "1.72380540584e-05 : 1\n",
      "9.70596071115e-06 : 1\n",
      "9.53732684272e-06 : 1\n",
      "8.0426807062e-06 : 1\n",
      "3.13563081844e-06 : 1\n",
      "OrderedDict([((2.9638245224835462e-08, 0), 1), ((2.9849420302622273e-08, 0), 1), ((9.5774547942714926e-07, 0), 1), ((1.3782602683179256e-06, 0), 1), ((1.5463780025668304e-06, 0), 1), ((3.7043674068444493e-06, 0), 1), ((5.0804296764365042e-06, 0), 1), ((7.1069650603201875e-06, 0), 1), ((7.5150538639543396e-06, 0), 1), ((2.0281886767004171e-05, 0), 1), ((2.8459652602326315e-05, 0), 1), ((3.0392820650748287e-05, 0), 1), ((4.1651881743450265e-05, 0), 1), ((5.2088240465842917e-05, 0), 1), ((7.4588654034944013e-05, 0), 1), ((0.00010224343609723098, 0), 1), ((0.0002681602041183884, 0), 1), ((0.00043156634474718559, 0), 1), ((0.00069581703561628796, 0), 1), ((0.0010093942945625816, 0), 1), ((0.0011447728235771083, 0), 1), ((0.0017567980551547566, 0), 1), ((0.0024522406169688446, 0), 1), ((0.0033431375510024472, 0), 1), ((0.014766018072734996, 0), 1), ((0.021458129352944281, 0), 1), ((0.022735245849740803, 0), 1), ((0.023496572113854364, 0), 1), ((0.044876142299865883, 0), 1), ((0.045632637717727423, 0), 1), ((0.050340539442649809, 0), 1), ((0.053492075339151186, 0), 1), ((0.057946861988229875, 0), 1), ((0.10836663557292542, 0), 1), ((0.12558916067457496, 0), 1), ((0.1730347993785995, 1), 1), ((0.41926220726112967, 0), 1), ((0.62584490539163384, 1), 1), ((0.74035712069004678, 1), 1), ((0.84072807407644445, 1), 1), ((0.98016470955493484, 1), 1), ((0.98047639670955677, 1), 1), ((0.99895459385559393, 1), 1), ((0.99927754358062992, 1), 1), ((0.99975190707544714, 1), 1), ((0.99989854143780177, 1), 1), ((0.99995200327497546, 1), 1), ((0.99997504491328215, 1), 1), ((0.9999827619459416, 1), 1), ((0.99999029403928885, 1), 1), ((0.99999046267315728, 1), 1), ((0.9999919573192938, 1), 1), ((0.99999686436918156, 1), 1), ((0.99999711993851792, 1), 1), ((0.99999984855785817, 1), 1), ((0.9999999838719833, 1), 1), ((0.99999998979602334, 1), 1)])\n"
     ]
    }
   ],
   "source": [
    "model_and_Evaluation(lrg_clf,0)"
   ]
  },
  {
   "cell_type": "code",
   "execution_count": null,
   "metadata": {
    "collapsed": true
   },
   "outputs": [],
   "source": []
  }
 ],
 "metadata": {
  "anaconda-cloud": {},
  "kernelspec": {
   "display_name": "Python [conda root]",
   "language": "python",
   "name": "conda-root-py"
  },
  "language_info": {
   "codemirror_mode": {
    "name": "ipython",
    "version": 3
   },
   "file_extension": ".py",
   "mimetype": "text/x-python",
   "name": "python",
   "nbconvert_exporter": "python",
   "pygments_lexer": "ipython3",
   "version": "3.5.2"
  }
 },
 "nbformat": 4,
 "nbformat_minor": 0
}
