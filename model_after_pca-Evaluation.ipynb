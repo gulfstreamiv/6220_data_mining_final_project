{
 "cells": [
  {
   "cell_type": "code",
   "execution_count": 56,
   "metadata": {
    "collapsed": false
   },
   "outputs": [
    {
     "name": "stdout",
     "output_type": "stream",
     "text": [
      "Populating the interactive namespace from numpy and matplotlib\n"
     ]
    }
   ],
   "source": [
    "%pylab inline\n",
    "import pandas as pd\n",
    "import matplotlib.pyplot as plt\n",
    "fileURL = './breastcancer.csv'\n",
    "breast_cancer_db = pd.read_csv(fileURL)\n",
    "breast_cancer_db = breast_cancer_db.ix[:,1:32]"
   ]
  },
  {
   "cell_type": "code",
   "execution_count": 2,
   "metadata": {
    "collapsed": true
   },
   "outputs": [],
   "source": [
    "breast_cancer_db.loc[(breast_cancer_db['diagnosis'] == 'B'),'diagnosis'] = 0\n",
    "breast_cancer_db.loc[(breast_cancer_db['diagnosis'] == 'M'),'diagnosis'] = 1\n",
    "breast_cancer_db['diagnosis'] = pd.to_numeric(breast_cancer_db['diagnosis'])"
   ]
  },
  {
   "cell_type": "code",
   "execution_count": 3,
   "metadata": {
    "collapsed": true
   },
   "outputs": [],
   "source": [
    "def get_X_y(feature_cols, target):\n",
    "    X = breast_cancer_db[feature_cols]\n",
    "    y = breast_cancer_db[target]\n",
    "    return X, y"
   ]
  },
  {
   "cell_type": "code",
   "execution_count": 4,
   "metadata": {
    "collapsed": true
   },
   "outputs": [],
   "source": [
    "feature_cols = ['radius_mean', 'texture_mean', 'perimeter_mean', 'area_mean', 'smoothness_mean',\n",
    "               'compactness_mean', 'concavity_mean', 'concave points_mean', 'symmetry_mean',\n",
    "               'fractal_dimension_mean', 'radius_se', 'texture_se', 'perimeter_se', 'area_se',\n",
    "               'smoothness_se', 'compactness_se', 'concavity_se', 'concave points_se', 'symmetry_se',\n",
    "               'fractal_dimension_se', 'radius_worst', 'texture_worst', 'perimeter_worst', 'area_worst',\n",
    "               'smoothness_worst', 'smoothness_worst', 'concavity_worst', 'concave points_worst', 'symmetry_worst',\n",
    "               'fractal_dimension_worst']\n",
    "\n",
    "target = 'diagnosis'\n",
    "X, y = get_X_y(feature_cols, target)"
   ]
  },
  {
   "cell_type": "code",
   "execution_count": 5,
   "metadata": {
    "collapsed": true
   },
   "outputs": [],
   "source": [
    "from sklearn.naive_bayes import GaussianNB\n",
    "gnb_clf = GaussianNB()"
   ]
  },
  {
   "cell_type": "code",
   "execution_count": 6,
   "metadata": {
    "collapsed": false
   },
   "outputs": [],
   "source": [
    "from sklearn.linear_model import LogisticRegression\n",
    "lrg_clf = LogisticRegression(C=10, fit_intercept=False, tol=0.0001, class_weight='balanced')"
   ]
  },
  {
   "cell_type": "code",
   "execution_count": 7,
   "metadata": {
    "collapsed": true
   },
   "outputs": [],
   "source": [
    "from sklearn.neighbors import KNeighborsClassifier\n",
    "knn_clf = KNeighborsClassifier(n_neighbors=10, weights='distance')"
   ]
  },
  {
   "cell_type": "code",
   "execution_count": 8,
   "metadata": {
    "collapsed": true
   },
   "outputs": [],
   "source": [
    "from sklearn import tree\n",
    "dt_clf = tree.DecisionTreeClassifier(criterion = \"entropy\", min_samples_split=3, \n",
    "                                     min_samples_leaf=3)"
   ]
  },
  {
   "cell_type": "code",
   "execution_count": 9,
   "metadata": {
    "collapsed": true
   },
   "outputs": [],
   "source": [
    "from sklearn.ensemble import RandomForestClassifier\n",
    "rf_clf = RandomForestClassifier(criterion = \"gini\", n_estimators=15)"
   ]
  },
  {
   "cell_type": "code",
   "execution_count": 10,
   "metadata": {
    "collapsed": true
   },
   "outputs": [],
   "source": [
    "from sklearn.pipeline import Pipeline\n",
    "from sklearn.decomposition import PCA \n",
    "\n",
    "pca = PCA(n_components=10)\n",
    "\n",
    "def build_pipeline(clf):\n",
    "    pipe = Pipeline(steps=[('pca', pca), ('clf', clf)])\n",
    "    return pipe"
   ]
  },
  {
   "cell_type": "code",
   "execution_count": 11,
   "metadata": {
    "collapsed": false
   },
   "outputs": [
    {
     "name": "stderr",
     "output_type": "stream",
     "text": [
      "//anaconda/lib/python3.5/site-packages/sklearn/cross_validation.py:44: DeprecationWarning: This module was deprecated in version 0.18 in favor of the model_selection module into which all the refactored classes and functions are moved. Also note that the interface of the new CV iterators are different from that of this module. This module will be removed in 0.20.\n",
      "  \"This module will be removed in 0.20.\", DeprecationWarning)\n"
     ]
    }
   ],
   "source": [
    "from sklearn.cross_validation import cross_val_score\n",
    "\n",
    "def model_and_validate(clf):\n",
    "    pipe = build_pipeline(clf)\n",
    "    scores = cross_val_score(pipe, X, y, cv=10, scoring='accuracy') \n",
    "    return scores.mean()"
   ]
  },
  {
   "cell_type": "code",
   "execution_count": 12,
   "metadata": {
    "collapsed": false,
    "scrolled": true
   },
   "outputs": [
    {
     "name": "stdout",
     "output_type": "stream",
     "text": [
      "0.906972171809\n"
     ]
    }
   ],
   "source": [
    "print (model_and_validate(gnb_clf))"
   ]
  },
  {
   "cell_type": "code",
   "execution_count": 13,
   "metadata": {
    "collapsed": false
   },
   "outputs": [
    {
     "name": "stdout",
     "output_type": "stream",
     "text": [
      "0.947359778757\n"
     ]
    }
   ],
   "source": [
    "print (model_and_validate(lrg_clf))"
   ]
  },
  {
   "cell_type": "code",
   "execution_count": 14,
   "metadata": {
    "collapsed": false
   },
   "outputs": [
    {
     "name": "stdout",
     "output_type": "stream",
     "text": [
      "0.917497407311\n"
     ]
    }
   ],
   "source": [
    "print (model_and_validate(dt_clf))"
   ]
  },
  {
   "cell_type": "code",
   "execution_count": 15,
   "metadata": {
    "collapsed": false
   },
   "outputs": [
    {
     "name": "stdout",
     "output_type": "stream",
     "text": [
      "0.931689136635\n"
     ]
    }
   ],
   "source": [
    "print (model_and_validate(knn_clf))"
   ]
  },
  {
   "cell_type": "code",
   "execution_count": 16,
   "metadata": {
    "collapsed": false
   },
   "outputs": [
    {
     "name": "stdout",
     "output_type": "stream",
     "text": [
      "0.940279578256\n"
     ]
    }
   ],
   "source": [
    "print (model_and_validate(rf_clf))"
   ]
  },
  {
   "cell_type": "code",
   "execution_count": 17,
   "metadata": {
    "collapsed": false
   },
   "outputs": [],
   "source": [
    "from sklearn.cluster import KMeans\n",
    "km_cls = KMeans(n_clusters=1)"
   ]
  },
  {
   "cell_type": "code",
   "execution_count": 18,
   "metadata": {
    "collapsed": false
   },
   "outputs": [
    {
     "name": "stdout",
     "output_type": "stream",
     "text": [
      "0.627662907268\n"
     ]
    }
   ],
   "source": [
    "print (model_and_validate(km_cls))"
   ]
  },
  {
   "cell_type": "code",
   "execution_count": 19,
   "metadata": {
    "collapsed": false
   },
   "outputs": [],
   "source": [
    "from mlxtend.classifier import StackingClassifier\n",
    "\n",
    "stk_clf = StackingClassifier(classifiers=[rf_clf, lrg_clf], meta_classifier=lrg_clf)"
   ]
  },
  {
   "cell_type": "code",
   "execution_count": 22,
   "metadata": {
    "collapsed": false
   },
   "outputs": [
    {
     "name": "stdout",
     "output_type": "stream",
     "text": [
      "0.943757021865\n"
     ]
    }
   ],
   "source": [
    "print (model_and_validate(stk_clf))"
   ]
  },
  {
   "cell_type": "code",
   "execution_count": 121,
   "metadata": {
    "collapsed": false
   },
   "outputs": [],
   "source": [
    "from sklearn.model_selection import train_test_split\n",
    "import queue\n",
    "from matplotlib.pyplot import hist\n",
    "import collections\n",
    "\n",
    "def model_and_Evaluation(clf):\n",
    "    pipe = build_pipeline(clf)\n",
    "    X_train, X_test, y_train, y_test = train_test_split(X, y, test_size=0.1,stratify=y)\n",
    "    pipe.fit(X_train,y_train)\n",
    "    predict_proba = pipe.predict_proba(X_test)\n",
    "    d = {\"prob\":predict_proba[:,1], \"result\":y_test}\n",
    "    df = pd.DataFrame(data=d)\n",
    "    \n",
    "    q = queue.PriorityQueue()\n",
    "    for i in range(len(y_test)):\n",
    "        prob = predict_proba[:,1][i]\n",
    "        q.put((-prob,y_test.tolist()[i]))\n",
    "        \n",
    "    for i in range(30):\n",
    "        tuple = q.get()\n",
    "        print(-tuple[0],\":\", tuple[1])\n",
    "        \n",
    "    dic = {}\n",
    "    for j in range(len(y_test)):\n",
    "        prob = predict_proba[:,1][j]\n",
    "        y_true = y_test.tolist()[j]\n",
    "        if (prob,y_true) in dic:\n",
    "            dic[(prob,y_true)] = dic.get((prob,y_true))+1\n",
    "        else:\n",
    "            dic[(prob,y_true)] = 1\n",
    "    od = collections.OrderedDict(sorted(dic.items()))\n",
    "    print (od)"
   ]
  },
  {
   "cell_type": "code",
   "execution_count": 127,
   "metadata": {
    "collapsed": false
   },
   "outputs": [
    {
     "name": "stdout",
     "output_type": "stream",
     "text": [
      "0.999474853941 : 1\n",
      "0.999474853941 : 1\n",
      "0.996912884707 : 1\n",
      "0.996912884707 : 1\n",
      "0.996912884707 : 1\n",
      "0.996912884707 : 1\n",
      "0.996912884707 : 1\n",
      "0.996912884707 : 1\n",
      "0.996912884707 : 1\n",
      "0.996912884707 : 1\n",
      "0.996912884707 : 1\n",
      "0.996912884707 : 1\n",
      "0.996912884707 : 1\n",
      "0.996912884707 : 1\n",
      "0.996912884707 : 1\n",
      "0.996912884707 : 1\n",
      "0.996912884707 : 1\n",
      "0.996912884707 : 1\n",
      "0.996912884707 : 1\n",
      "0.996912884707 : 1\n",
      "0.5 : 0\n",
      "0.5 : 0\n",
      "0.5 : 0\n",
      "0.5 : 0\n",
      "0.5 : 0\n",
      "0.5 : 0\n",
      "0.5 : 0\n",
      "0.5 : 0\n",
      "0.5 : 0\n",
      "0.5 : 0\n",
      "OrderedDict([((0.14506016054644927, 0), 3), ((0.5, 0), 33), ((0.5, 1), 1), ((0.99691288470673645, 1), 18), ((0.99947485394100299, 1), 2)])\n"
     ]
    }
   ],
   "source": [
    "model_and_Evaluation(stk_clf)"
   ]
  },
  {
   "cell_type": "code",
   "execution_count": 123,
   "metadata": {
    "collapsed": false
   },
   "outputs": [
    {
     "name": "stdout",
     "output_type": "stream",
     "text": [
      "0.999999999996 : 1\n",
      "0.999999999899 : 1\n",
      "0.999999999685 : 1\n",
      "0.999999998101 : 1\n",
      "0.999999997654 : 1\n",
      "0.999999996335 : 1\n",
      "0.999999587994 : 1\n",
      "0.999999277943 : 1\n",
      "0.999987434589 : 1\n",
      "0.99997932443 : 1\n",
      "0.99997682086 : 1\n",
      "0.999853086669 : 1\n",
      "0.999698372464 : 1\n",
      "0.999014160423 : 1\n",
      "0.998234605766 : 1\n",
      "0.997495309365 : 1\n",
      "0.991296348797 : 1\n",
      "0.982832016001 : 1\n",
      "0.979447244884 : 1\n",
      "0.947691922118 : 1\n",
      "0.75171594027 : 1\n",
      "0.396538533106 : 0\n",
      "0.390260479431 : 0\n",
      "0.245382948274 : 0\n",
      "0.229469075807 : 0\n",
      "0.206271316032 : 0\n",
      "0.0776595318816 : 0\n",
      "0.0375018618118 : 0\n",
      "0.0239896039107 : 0\n",
      "0.0207898899353 : 0\n",
      "OrderedDict([((5.6576570588124265e-10, 0), 1), ((1.7780001743410068e-08, 0), 1), ((3.608453839135318e-07, 0), 1), ((2.0193678796099532e-06, 0), 1), ((4.1202207789396117e-06, 0), 1), ((5.1973783032385196e-06, 0), 1), ((1.7157756961646842e-05, 0), 1), ((2.1548275501319733e-05, 0), 1), ((2.3824550996425482e-05, 0), 1), ((0.00013293731144920306, 0), 1), ((0.00014585591928839784, 0), 1), ((0.00016162572766687295, 0), 1), ((0.00018605389708335534, 0), 1), ((0.00019343076022102355, 0), 1), ((0.0002543754970579884, 0), 1), ((0.00077897225362640987, 0), 1), ((0.00095905403307024607, 0), 1), ((0.0023406863484389511, 0), 1), ((0.0040647104466646966, 0), 1), ((0.0042918493015949881, 0), 1), ((0.0047584919178432139, 0), 1), ((0.0053878180811415448, 0), 1), ((0.0090982566177450399, 0), 1), ((0.0095811318212152951, 0), 1), ((0.011540162495264884, 0), 1), ((0.013301542900335183, 0), 1), ((0.020139916079327361, 0), 1), ((0.020789889935321621, 0), 1), ((0.023989603910729154, 0), 1), ((0.037501861811813079, 0), 1), ((0.077659531881630106, 0), 1), ((0.20627131603174534, 0), 1), ((0.22946907580701223, 0), 1), ((0.24538294827363824, 0), 1), ((0.39026047943123499, 0), 1), ((0.39653853310649023, 0), 1), ((0.75171594026984101, 1), 1), ((0.94769192211766184, 1), 1), ((0.97944724488386392, 1), 1), ((0.9828320160008609, 1), 1), ((0.99129634879741946, 1), 1), ((0.99749530936542785, 1), 1), ((0.99823460576598866, 1), 1), ((0.99901416042277014, 1), 1), ((0.99969837246445803, 1), 1), ((0.99985308666928085, 1), 1), ((0.99997682085997874, 1), 1), ((0.99997932442999593, 1), 1), ((0.9999874345890708, 1), 1), ((0.99999927794251553, 1), 1), ((0.99999958799357402, 1), 1), ((0.99999999633518732, 1), 1), ((0.99999999765369041, 1), 1), ((0.99999999810078744, 1), 1), ((0.99999999968534414, 1), 1), ((0.99999999989915533, 1), 1), ((0.99999999999584155, 1), 1)])\n"
     ]
    }
   ],
   "source": [
    "model_and_Evaluation(lrg_clf)"
   ]
  },
  {
   "cell_type": "code",
   "execution_count": null,
   "metadata": {
    "collapsed": true
   },
   "outputs": [],
   "source": []
  }
 ],
 "metadata": {
  "anaconda-cloud": {},
  "kernelspec": {
   "display_name": "Python [conda root]",
   "language": "python",
   "name": "conda-root-py"
  },
  "language_info": {
   "codemirror_mode": {
    "name": "ipython",
    "version": 3
   },
   "file_extension": ".py",
   "mimetype": "text/x-python",
   "name": "python",
   "nbconvert_exporter": "python",
   "pygments_lexer": "ipython3",
   "version": "3.5.2"
  }
 },
 "nbformat": 4,
 "nbformat_minor": 0
}
