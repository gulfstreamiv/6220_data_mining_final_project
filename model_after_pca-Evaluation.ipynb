{
 "cells": [
  {
   "cell_type": "code",
   "execution_count": 122,
   "metadata": {
    "collapsed": true
   },
   "outputs": [],
   "source": [
    "import pandas as pd\n",
    "\n",
    "fileURL = './breastcancer.csv'\n",
    "breast_cancer_db = pd.read_csv(fileURL)\n",
    "breast_cancer_db = breast_cancer_db.ix[:,1:32]"
   ]
  },
  {
   "cell_type": "code",
   "execution_count": 2,
   "metadata": {
    "collapsed": true
   },
   "outputs": [],
   "source": [
    "breast_cancer_db.loc[(breast_cancer_db['diagnosis'] == 'B'),'diagnosis'] = 0\n",
    "breast_cancer_db.loc[(breast_cancer_db['diagnosis'] == 'M'),'diagnosis'] = 1\n",
    "breast_cancer_db['diagnosis'] = pd.to_numeric(breast_cancer_db['diagnosis'])"
   ]
  },
  {
   "cell_type": "code",
   "execution_count": 3,
   "metadata": {
    "collapsed": true
   },
   "outputs": [],
   "source": [
    "def get_X_y(feature_cols, target):\n",
    "    X = breast_cancer_db[feature_cols]\n",
    "    y = breast_cancer_db[target]\n",
    "    return X, y"
   ]
  },
  {
   "cell_type": "code",
   "execution_count": 4,
   "metadata": {
    "collapsed": true
   },
   "outputs": [],
   "source": [
    "feature_cols = ['radius_mean', 'texture_mean', 'perimeter_mean', 'area_mean', 'smoothness_mean',\n",
    "               'compactness_mean', 'concavity_mean', 'concave points_mean', 'symmetry_mean',\n",
    "               'fractal_dimension_mean', 'radius_se', 'texture_se', 'perimeter_se', 'area_se',\n",
    "               'smoothness_se', 'compactness_se', 'concavity_se', 'concave points_se', 'symmetry_se',\n",
    "               'fractal_dimension_se', 'radius_worst', 'texture_worst', 'perimeter_worst', 'area_worst',\n",
    "               'smoothness_worst', 'smoothness_worst', 'concavity_worst', 'concave points_worst', 'symmetry_worst',\n",
    "               'fractal_dimension_worst']\n",
    "\n",
    "target = 'diagnosis'\n",
    "X, y = get_X_y(feature_cols, target)"
   ]
  },
  {
   "cell_type": "code",
   "execution_count": 5,
   "metadata": {
    "collapsed": true
   },
   "outputs": [],
   "source": [
    "from sklearn.naive_bayes import GaussianNB\n",
    "gnb_clf = GaussianNB()"
   ]
  },
  {
   "cell_type": "code",
   "execution_count": 6,
   "metadata": {
    "collapsed": false
   },
   "outputs": [],
   "source": [
    "from sklearn.linear_model import LogisticRegression\n",
    "lrg_clf = LogisticRegression(C=10, fit_intercept=False, tol=0.0001, class_weight='balanced')"
   ]
  },
  {
   "cell_type": "code",
   "execution_count": 7,
   "metadata": {
    "collapsed": true
   },
   "outputs": [],
   "source": [
    "from sklearn.neighbors import KNeighborsClassifier\n",
    "knn_clf = KNeighborsClassifier(n_neighbors=10, weights='distance')"
   ]
  },
  {
   "cell_type": "code",
   "execution_count": 8,
   "metadata": {
    "collapsed": true
   },
   "outputs": [],
   "source": [
    "from sklearn import tree\n",
    "dt_clf = tree.DecisionTreeClassifier(criterion = \"entropy\", min_samples_split=3, \n",
    "                                     min_samples_leaf=3)"
   ]
  },
  {
   "cell_type": "code",
   "execution_count": 9,
   "metadata": {
    "collapsed": true
   },
   "outputs": [],
   "source": [
    "from sklearn.ensemble import RandomForestClassifier\n",
    "rf_clf = RandomForestClassifier(criterion = \"gini\", n_estimators=15)"
   ]
  },
  {
   "cell_type": "code",
   "execution_count": 10,
   "metadata": {
    "collapsed": true
   },
   "outputs": [],
   "source": [
    "from sklearn.pipeline import Pipeline\n",
    "from sklearn.decomposition import PCA \n",
    "\n",
    "pca = PCA(n_components=10)\n",
    "\n",
    "def build_pipeline(clf):\n",
    "    pipe = Pipeline(steps=[('pca', pca), ('clf', clf)])\n",
    "    return pipe"
   ]
  },
  {
   "cell_type": "code",
   "execution_count": 11,
   "metadata": {
    "collapsed": false
   },
   "outputs": [
    {
     "name": "stderr",
     "output_type": "stream",
     "text": [
      "//anaconda/lib/python3.5/site-packages/sklearn/cross_validation.py:44: DeprecationWarning: This module was deprecated in version 0.18 in favor of the model_selection module into which all the refactored classes and functions are moved. Also note that the interface of the new CV iterators are different from that of this module. This module will be removed in 0.20.\n",
      "  \"This module will be removed in 0.20.\", DeprecationWarning)\n"
     ]
    }
   ],
   "source": [
    "from sklearn.cross_validation import cross_val_score\n",
    "\n",
    "def model_and_validate(clf):\n",
    "    pipe = build_pipeline(clf)\n",
    "    scores = cross_val_score(pipe, X, y, cv=10, scoring='accuracy') \n",
    "    return scores.mean()"
   ]
  },
  {
   "cell_type": "code",
   "execution_count": 14,
   "metadata": {
    "collapsed": false,
    "scrolled": true
   },
   "outputs": [
    {
     "name": "stdout",
     "output_type": "stream",
     "text": [
      "0.906972171809\n"
     ]
    }
   ],
   "source": [
    "print (model_and_validate(gnb_clf))"
   ]
  },
  {
   "cell_type": "code",
   "execution_count": 15,
   "metadata": {
    "collapsed": false
   },
   "outputs": [
    {
     "name": "stdout",
     "output_type": "stream",
     "text": [
      "0.949083916688\n"
     ]
    }
   ],
   "source": [
    "print (model_and_validate(lrg_clf))"
   ]
  },
  {
   "cell_type": "code",
   "execution_count": 16,
   "metadata": {
    "collapsed": false
   },
   "outputs": [
    {
     "name": "stdout",
     "output_type": "stream",
     "text": [
      "0.917435830957\n"
     ]
    }
   ],
   "source": [
    "print (model_and_validate(dt_clf))"
   ]
  },
  {
   "cell_type": "code",
   "execution_count": 17,
   "metadata": {
    "collapsed": false
   },
   "outputs": [
    {
     "name": "stdout",
     "output_type": "stream",
     "text": [
      "0.931689136635\n"
     ]
    }
   ],
   "source": [
    "print (model_and_validate(knn_clf))"
   ]
  },
  {
   "cell_type": "code",
   "execution_count": 18,
   "metadata": {
    "collapsed": false
   },
   "outputs": [
    {
     "name": "stdout",
     "output_type": "stream",
     "text": [
      "0.945513568404\n"
     ]
    }
   ],
   "source": [
    "print (model_and_validate(rf_clf))"
   ]
  },
  {
   "cell_type": "code",
   "execution_count": 20,
   "metadata": {
    "collapsed": false
   },
   "outputs": [],
   "source": [
    "from sklearn.cluster import KMeans\n",
    "km_cls = KMeans(n_clusters=1)"
   ]
  },
  {
   "cell_type": "code",
   "execution_count": 21,
   "metadata": {
    "collapsed": false
   },
   "outputs": [
    {
     "name": "stdout",
     "output_type": "stream",
     "text": [
      "0.627662907268\n"
     ]
    }
   ],
   "source": [
    "print (model_and_validate(km_cls))"
   ]
  },
  {
   "cell_type": "code",
   "execution_count": 22,
   "metadata": {
    "collapsed": false
   },
   "outputs": [],
   "source": [
    "from mlxtend.classifier import StackingClassifier\n",
    "\n",
    "stk_clf = StackingClassifier(classifiers=[rf_clf, lrg_clf], meta_classifier=lrg_clf)"
   ]
  },
  {
   "cell_type": "code",
   "execution_count": 21,
   "metadata": {
    "collapsed": false
   },
   "outputs": [
    {
     "name": "stdout",
     "output_type": "stream",
     "text": [
      "0.947360859044\n"
     ]
    }
   ],
   "source": [
    "print model_and_validate(stk_clf)"
   ]
  },
  {
   "cell_type": "code",
   "execution_count": 129,
   "metadata": {
    "collapsed": false
   },
   "outputs": [],
   "source": [
    "from sklearn.model_selection import train_test_split\n",
    "import queue\n",
    "def model_and_Evaluation(clf):\n",
    "    pipe = build_pipeline(clf)\n",
    "    X_train, X_test, y_train, y_test = train_test_split(X, y, test_size=0.1,stratify=y)\n",
    "    pipe.fit(X_train,y_train)\n",
    "    predict_proba = pipe.predict_proba(X_test)\n",
    "    q = queue.PriorityQueue()\n",
    "    for i in range(len(y_test)):\n",
    "        prob = predict_proba[:,1][i]\n",
    "        q.put((-prob,y_test.tolist()[i]))\n",
    "        \n",
    "    for i in range(20):\n",
    "        tuple = q.get()\n",
    "        print(-tuple[0],\":\", tuple[1])\n",
    "    "
   ]
  },
  {
   "cell_type": "code",
   "execution_count": 130,
   "metadata": {
    "collapsed": false
   },
   "outputs": [
    {
     "name": "stdout",
     "output_type": "stream",
     "text": [
      "0.999059759899 : 0\n",
      "0.997201044769 : 1\n",
      "0.997201044769 : 1\n",
      "0.997201044769 : 1\n",
      "0.997201044769 : 1\n",
      "0.997201044769 : 1\n",
      "0.997201044769 : 1\n",
      "0.997201044769 : 1\n",
      "0.997201044769 : 1\n",
      "0.997201044769 : 1\n",
      "0.997201044769 : 1\n",
      "0.997201044769 : 1\n",
      "0.997201044769 : 1\n",
      "0.997201044769 : 1\n",
      "0.997201044769 : 1\n",
      "0.997201044769 : 1\n",
      "0.997201044769 : 1\n",
      "0.5 : 0\n",
      "0.5 : 0\n",
      "0.5 : 0\n"
     ]
    }
   ],
   "source": [
    "model_and_Evaluation(stk_clf)"
   ]
  },
  {
   "cell_type": "code",
   "execution_count": 131,
   "metadata": {
    "collapsed": false
   },
   "outputs": [
    {
     "name": "stdout",
     "output_type": "stream",
     "text": [
      "1.0 : 1\n",
      "1.0 : 1\n",
      "1.0 : 1\n",
      "0.999999999999 : 1\n",
      "0.999999997251 : 1\n",
      "0.999999519348 : 1\n",
      "0.999999432333 : 1\n",
      "0.999998795809 : 1\n",
      "0.999996266888 : 1\n",
      "0.999996039685 : 1\n",
      "0.999984356412 : 1\n",
      "0.999966777674 : 1\n",
      "0.999640849543 : 1\n",
      "0.999531067783 : 1\n",
      "0.999502034204 : 1\n",
      "0.996591082143 : 1\n",
      "0.987455423208 : 1\n",
      "0.857024479205 : 1\n",
      "0.825927152771 : 1\n",
      "0.693481536784 : 0\n"
     ]
    }
   ],
   "source": [
    "model_and_Evaluation(lrg_clf)"
   ]
  },
  {
   "cell_type": "code",
   "execution_count": null,
   "metadata": {
    "collapsed": true
   },
   "outputs": [],
   "source": []
  }
 ],
 "metadata": {
  "anaconda-cloud": {},
  "kernelspec": {
   "display_name": "Python [conda root]",
   "language": "python",
   "name": "conda-root-py"
  },
  "language_info": {
   "codemirror_mode": {
    "name": "ipython",
    "version": 3
   },
   "file_extension": ".py",
   "mimetype": "text/x-python",
   "name": "python",
   "nbconvert_exporter": "python",
   "pygments_lexer": "ipython3",
   "version": "3.5.2"
  }
 },
 "nbformat": 4,
 "nbformat_minor": 0
}
