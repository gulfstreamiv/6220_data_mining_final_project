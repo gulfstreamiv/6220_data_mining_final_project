{
 "cells": [
  {
   "cell_type": "code",
   "execution_count": 122,
   "metadata": {
    "collapsed": true
   },
   "outputs": [],
   "source": [
    "import pandas as pd\n",
    "\n",
    "fileURL = './breastcancer.csv'\n",
    "breast_cancer_db = pd.read_csv(fileURL)\n",
    "breast_cancer_db = breast_cancer_db.ix[:,1:32]"
   ]
  },
  {
   "cell_type": "code",
   "execution_count": 2,
   "metadata": {
    "collapsed": true
   },
   "outputs": [],
   "source": [
    "breast_cancer_db.loc[(breast_cancer_db['diagnosis'] == 'B'),'diagnosis'] = 0\n",
    "breast_cancer_db.loc[(breast_cancer_db['diagnosis'] == 'M'),'diagnosis'] = 1\n",
    "breast_cancer_db['diagnosis'] = pd.to_numeric(breast_cancer_db['diagnosis'])"
   ]
  },
  {
   "cell_type": "code",
   "execution_count": 3,
   "metadata": {
    "collapsed": true
   },
   "outputs": [],
   "source": [
    "def get_X_y(feature_cols, target):\n",
    "    X = breast_cancer_db[feature_cols]\n",
    "    y = breast_cancer_db[target]\n",
    "    return X, y"
   ]
  },
  {
   "cell_type": "code",
   "execution_count": 4,
   "metadata": {
    "collapsed": true
   },
   "outputs": [],
   "source": [
    "feature_cols = ['radius_mean', 'texture_mean', 'perimeter_mean', 'area_mean', 'smoothness_mean',\n",
    "               'compactness_mean', 'concavity_mean', 'concave points_mean', 'symmetry_mean',\n",
    "               'fractal_dimension_mean', 'radius_se', 'texture_se', 'perimeter_se', 'area_se',\n",
    "               'smoothness_se', 'compactness_se', 'concavity_se', 'concave points_se', 'symmetry_se',\n",
    "               'fractal_dimension_se', 'radius_worst', 'texture_worst', 'perimeter_worst', 'area_worst',\n",
    "               'smoothness_worst', 'smoothness_worst', 'concavity_worst', 'concave points_worst', 'symmetry_worst',\n",
    "               'fractal_dimension_worst']\n",
    "\n",
    "target = 'diagnosis'\n",
    "X, y = get_X_y(feature_cols, target)"
   ]
  },
  {
   "cell_type": "code",
   "execution_count": 5,
   "metadata": {
    "collapsed": true
   },
   "outputs": [],
   "source": [
    "from sklearn.naive_bayes import GaussianNB\n",
    "gnb_clf = GaussianNB()"
   ]
  },
  {
   "cell_type": "code",
   "execution_count": 6,
   "metadata": {
    "collapsed": false
   },
   "outputs": [],
   "source": [
    "from sklearn.linear_model import LogisticRegression\n",
    "lrg_clf = LogisticRegression(C=10, fit_intercept=False, tol=0.0001, class_weight='balanced')"
   ]
  },
  {
   "cell_type": "code",
   "execution_count": 7,
   "metadata": {
    "collapsed": true
   },
   "outputs": [],
   "source": [
    "from sklearn.neighbors import KNeighborsClassifier\n",
    "knn_clf = KNeighborsClassifier(n_neighbors=10, weights='distance')"
   ]
  },
  {
   "cell_type": "code",
   "execution_count": 8,
   "metadata": {
    "collapsed": true
   },
   "outputs": [],
   "source": [
    "from sklearn import tree\n",
    "dt_clf = tree.DecisionTreeClassifier(criterion = \"entropy\", min_samples_split=3, \n",
    "                                     min_samples_leaf=3)"
   ]
  },
  {
   "cell_type": "code",
   "execution_count": 9,
   "metadata": {
    "collapsed": true
   },
   "outputs": [],
   "source": [
    "from sklearn.ensemble import RandomForestClassifier\n",
    "rf_clf = RandomForestClassifier(criterion = \"gini\", n_estimators=15)"
   ]
  },
  {
   "cell_type": "code",
   "execution_count": 10,
   "metadata": {
    "collapsed": true
   },
   "outputs": [],
   "source": [
    "from sklearn.pipeline import Pipeline\n",
    "from sklearn.decomposition import PCA \n",
    "\n",
    "pca = PCA(n_components=10)\n",
    "\n",
    "def build_pipeline(clf):\n",
    "    pipe = Pipeline(steps=[('pca', pca), ('clf', clf)])\n",
    "    return pipe"
   ]
  },
  {
   "cell_type": "code",
   "execution_count": 11,
   "metadata": {
    "collapsed": false
   },
   "outputs": [
    {
     "name": "stderr",
     "output_type": "stream",
     "text": [
      "//anaconda/lib/python3.5/site-packages/sklearn/cross_validation.py:44: DeprecationWarning: This module was deprecated in version 0.18 in favor of the model_selection module into which all the refactored classes and functions are moved. Also note that the interface of the new CV iterators are different from that of this module. This module will be removed in 0.20.\n",
      "  \"This module will be removed in 0.20.\", DeprecationWarning)\n"
     ]
    }
   ],
   "source": [
    "from sklearn.cross_validation import cross_val_score\n",
    "\n",
    "def model_and_validate(clf):\n",
    "    pipe = build_pipeline(clf)\n",
    "    scores = cross_val_score(pipe, X, y, cv=10, scoring='accuracy') \n",
    "    return scores.mean()"
   ]
  },
  {
   "cell_type": "code",
   "execution_count": 14,
   "metadata": {
    "collapsed": false,
    "scrolled": true
   },
   "outputs": [
    {
     "name": "stdout",
     "output_type": "stream",
     "text": [
      "0.906972171809\n"
     ]
    }
   ],
   "source": [
    "print (model_and_validate(gnb_clf))"
   ]
  },
  {
   "cell_type": "code",
   "execution_count": 15,
   "metadata": {
    "collapsed": false
   },
   "outputs": [
    {
     "name": "stdout",
     "output_type": "stream",
     "text": [
      "0.949083916688\n"
     ]
    }
   ],
   "source": [
    "print (model_and_validate(lrg_clf))"
   ]
  },
  {
   "cell_type": "code",
   "execution_count": 16,
   "metadata": {
    "collapsed": false
   },
   "outputs": [
    {
     "name": "stdout",
     "output_type": "stream",
     "text": [
      "0.917435830957\n"
     ]
    }
   ],
   "source": [
    "print (model_and_validate(dt_clf))"
   ]
  },
  {
   "cell_type": "code",
   "execution_count": 17,
   "metadata": {
    "collapsed": false
   },
   "outputs": [
    {
     "name": "stdout",
     "output_type": "stream",
     "text": [
      "0.931689136635\n"
     ]
    }
   ],
   "source": [
    "print (model_and_validate(knn_clf))"
   ]
  },
  {
   "cell_type": "code",
   "execution_count": 18,
   "metadata": {
    "collapsed": false
   },
   "outputs": [
    {
     "name": "stdout",
     "output_type": "stream",
     "text": [
      "0.945513568404\n"
     ]
    }
   ],
   "source": [
    "print (model_and_validate(rf_clf))"
   ]
  },
  {
   "cell_type": "code",
   "execution_count": 20,
   "metadata": {
    "collapsed": false
   },
   "outputs": [],
   "source": [
    "from sklearn.cluster import KMeans\n",
    "km_cls = KMeans(n_clusters=1)"
   ]
  },
  {
   "cell_type": "code",
   "execution_count": 21,
   "metadata": {
    "collapsed": false
   },
   "outputs": [
    {
     "name": "stdout",
     "output_type": "stream",
     "text": [
      "0.627662907268\n"
     ]
    }
   ],
   "source": [
    "print (model_and_validate(km_cls))"
   ]
  },
  {
   "cell_type": "code",
   "execution_count": 22,
   "metadata": {
    "collapsed": false
   },
   "outputs": [],
   "source": [
    "from mlxtend.classifier import StackingClassifier\n",
    "\n",
    "stk_clf = StackingClassifier(classifiers=[rf_clf, lrg_clf], meta_classifier=lrg_clf)"
   ]
  },
  {
   "cell_type": "code",
   "execution_count": 21,
   "metadata": {
    "collapsed": false
   },
   "outputs": [
    {
     "name": "stdout",
     "output_type": "stream",
     "text": [
      "0.947360859044\n"
     ]
    }
   ],
   "source": [
    "print model_and_validate(stk_clf)"
   ]
  },
  {
   "cell_type": "code",
   "execution_count": 119,
   "metadata": {
    "collapsed": false
   },
   "outputs": [],
   "source": [
    "from sklearn.model_selection import train_test_split\n",
    "def model_and_Evaluation(clf):\n",
    "    pipe = build_pipeline(clf)\n",
    "    X_train, X_test, y_train, y_test = train_test_split(X, y, test_size=0.1,stratify=y)\n",
    "    pipe.fit(X_train,y_train)\n",
    "    predict_proba = pipe.predict_proba(X_test)\n",
    "    #print(predict_proba[:,1][3])\n",
    "    for i in range(len(y_test)):\n",
    "        prob = predict_proba[:,1][i]\n",
    "        print(prob,\":\", y_test.tolist()[i])\n"
   ]
  },
  {
   "cell_type": "code",
   "execution_count": 120,
   "metadata": {
    "collapsed": false
   },
   "outputs": [
    {
     "name": "stdout",
     "output_type": "stream",
     "text": [
      "0.5 : 0\n",
      "0.5 : 0\n",
      "0.990790672643 : 1\n",
      "0.990790672643 : 1\n",
      "0.5 : 0\n",
      "0.5 : 0\n",
      "0.5 : 0\n",
      "0.5 : 0\n",
      "0.990790672643 : 1\n",
      "0.5 : 0\n",
      "0.990790672643 : 1\n",
      "0.990790672643 : 1\n",
      "0.990790672643 : 1\n",
      "0.990790672643 : 1\n",
      "0.5 : 0\n",
      "0.5 : 0\n",
      "0.990790672643 : 1\n",
      "0.990790672643 : 1\n",
      "0.990790672643 : 1\n",
      "0.5 : 0\n",
      "0.5 : 0\n",
      "0.5 : 0\n",
      "0.5 : 0\n",
      "0.5 : 0\n",
      "0.5 : 0\n",
      "0.5 : 0\n",
      "0.990790672643 : 1\n",
      "0.5 : 0\n",
      "0.5 : 0\n",
      "0.5 : 0\n",
      "0.5 : 0\n",
      "0.5 : 0\n",
      "0.5 : 0\n",
      "0.5 : 0\n",
      "0.990790672643 : 1\n",
      "0.5 : 0\n",
      "0.5 : 0\n",
      "0.990790672643 : 1\n",
      "0.5 : 0\n",
      "0.5 : 0\n",
      "0.990790672643 : 1\n",
      "0.5 : 0\n",
      "0.5 : 0\n",
      "0.5 : 0\n",
      "0.5 : 0\n",
      "0.5 : 0\n",
      "0.5 : 0\n",
      "0.990790672643 : 1\n",
      "0.990790672643 : 1\n",
      "0.990790672643 : 1\n",
      "0.5 : 0\n",
      "0.5 : 0\n",
      "0.5 : 0\n",
      "0.990790672643 : 1\n",
      "0.990790672643 : 1\n",
      "0.990790672643 : 1\n",
      "0.990790672643 : 1\n"
     ]
    }
   ],
   "source": [
    "model_and_Evaluation(stk_clf)"
   ]
  },
  {
   "cell_type": "code",
   "execution_count": 121,
   "metadata": {
    "collapsed": false
   },
   "outputs": [
    {
     "name": "stdout",
     "output_type": "stream",
     "text": [
      "0.892562696583 : 1\n",
      "0.000806190822355 : 0\n",
      "0.561518772536 : 1\n",
      "2.48813339284e-05 : 0\n",
      "0.999773067084 : 1\n",
      "0.00104253381236 : 0\n",
      "0.0814333366591 : 0\n",
      "0.000259580969004 : 0\n",
      "0.434735859248 : 0\n",
      "0.596071618598 : 1\n",
      "0.112230395106 : 0\n",
      "0.000455849151933 : 0\n",
      "1.22064376504e-05 : 0\n",
      "0.0122622505173 : 0\n",
      "0.999736842929 : 1\n",
      "0.0274271606844 : 0\n",
      "0.0152856970535 : 0\n",
      "0.806492247854 : 1\n",
      "0.00543017007004 : 0\n",
      "0.996399410153 : 1\n",
      "0.000340062654711 : 0\n",
      "0.999999786379 : 1\n",
      "0.000228941127939 : 0\n",
      "0.999990897911 : 1\n",
      "0.000680961865466 : 0\n",
      "0.0129509463001 : 0\n",
      "9.8550213885e-05 : 0\n",
      "0.0057700696561 : 0\n",
      "0.000870171861202 : 0\n",
      "0.999991175001 : 1\n",
      "0.000156668926373 : 0\n",
      "0.999576422757 : 1\n",
      "0.00794572419906 : 0\n",
      "0.999999819732 : 1\n",
      "8.20819756203e-05 : 0\n",
      "0.140290662053 : 0\n",
      "0.00461252679307 : 0\n",
      "0.000853976110334 : 0\n",
      "0.142690599361 : 0\n",
      "0.999663253545 : 1\n",
      "0.00047771546759 : 0\n",
      "0.999817650688 : 1\n",
      "0.999999998199 : 1\n",
      "0.00187230024829 : 0\n",
      "0.0427325204665 : 0\n",
      "0.471791248858 : 1\n",
      "6.63452531008e-06 : 0\n",
      "0.781057941772 : 1\n",
      "0.924385552694 : 1\n",
      "0.0164580858988 : 0\n",
      "0.142545800039 : 1\n",
      "0.00056953618842 : 0\n",
      "0.110627501052 : 0\n",
      "0.830030625229 : 0\n",
      "0.999999509782 : 1\n",
      "0.980189779918 : 1\n",
      "0.0468174159114 : 0\n"
     ]
    }
   ],
   "source": [
    "model_and_Evaluation(lrg_clf)"
   ]
  },
  {
   "cell_type": "code",
   "execution_count": null,
   "metadata": {
    "collapsed": true
   },
   "outputs": [],
   "source": []
  }
 ],
 "metadata": {
  "anaconda-cloud": {},
  "kernelspec": {
   "display_name": "Python [conda root]",
   "language": "python",
   "name": "conda-root-py"
  },
  "language_info": {
   "codemirror_mode": {
    "name": "ipython",
    "version": 3
   },
   "file_extension": ".py",
   "mimetype": "text/x-python",
   "name": "python",
   "nbconvert_exporter": "python",
   "pygments_lexer": "ipython3",
   "version": "3.5.2"
  }
 },
 "nbformat": 4,
 "nbformat_minor": 0
}
